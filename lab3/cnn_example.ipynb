{
 "cells": [
  {
   "cell_type": "code",
   "execution_count": 1,
   "id": "92cced73",
   "metadata": {
    "ExecuteTime": {
     "end_time": "2024-08-05T22:27:19.616949Z",
     "start_time": "2024-08-05T22:27:16.169139Z"
    }
   },
   "outputs": [
    {
     "name": "stderr",
     "output_type": "stream",
     "text": [
      "2024-08-11 18:02:17.989852: I external/local_tsl/tsl/cuda/cudart_stub.cc:32] Could not find cuda drivers on your machine, GPU will not be used.\n",
      "2024-08-11 18:02:17.992766: I external/local_tsl/tsl/cuda/cudart_stub.cc:32] Could not find cuda drivers on your machine, GPU will not be used.\n",
      "2024-08-11 18:02:18.030997: I tensorflow/core/platform/cpu_feature_guard.cc:210] This TensorFlow binary is optimized to use available CPU instructions in performance-critical operations.\n",
      "To enable the following instructions: AVX2 FMA, in other operations, rebuild TensorFlow with the appropriate compiler flags.\n",
      "2024-08-11 18:02:18.705388: W tensorflow/compiler/tf2tensorrt/utils/py_utils.cc:38] TF-TRT Warning: Could not find TensorRT\n"
     ]
    }
   ],
   "source": [
    "import numpy as np\n",
    "import matplotlib.pyplot as plt\n",
    "%matplotlib inline\n",
    "from __future__ import print_function\n",
    "import keras\n",
    "from keras.models import Sequential\n",
    "from keras.utils import to_categorical\n",
    "from keras.layers import Dense, Conv2D, MaxPooling2D, Dropout, Flatten"
   ]
  },
  {
   "cell_type": "code",
   "execution_count": 2,
   "id": "59ac730a-6868-4852-b80d-cdbdf9b05d78",
   "metadata": {
    "ExecuteTime": {
     "end_time": "2024-08-05T22:27:20.680221Z",
     "start_time": "2024-08-05T22:27:20.387221Z"
    }
   },
   "outputs": [
    {
     "name": "stdout",
     "output_type": "stream",
     "text": [
      "Downloading data from https://www.cs.toronto.edu/~kriz/cifar-10-python.tar.gz\n",
      "\u001b[1m170409984/170498071\u001b[0m \u001b[32m━━━━━━━━━━━━━━━━━━━\u001b[0m\u001b[37m━\u001b[0m \u001b[1m0s\u001b[0m 2us/step"
     ]
    },
    {
     "name": "stderr",
     "output_type": "stream",
     "text": [
      "Exception ignored in: <bound method IPythonKernel._clean_thread_parent_frames of <ipykernel.ipkernel.IPythonKernel object at 0x7cc5213f7be0>>\n",
      "Traceback (most recent call last):\n",
      "  File \"/home/arg/.local/lib/python3.10/site-packages/ipykernel/ipkernel.py\", line 770, in _clean_thread_parent_frames\n",
      "KeyboardInterrupt: \n",
      "\n",
      "KeyboardInterrupt\n",
      "\n"
     ]
    }
   ],
   "source": [
    "from keras.datasets import cifar10\n",
    "(train_images, train_labels), (test_images, test_labels) = cifar10.load_data()"
   ]
  },
  {
   "cell_type": "code",
   "execution_count": null,
   "id": "834e38f6-cb6a-4a7b-beaa-fa893d05cf96",
   "metadata": {
    "ExecuteTime": {
     "end_time": "2024-08-05T22:27:22.550491Z",
     "start_time": "2024-08-05T22:27:22.173053Z"
    }
   },
   "outputs": [],
   "source": [
    "nRows,nCols,nDims = train_images.shape[1:]\n",
    "train_data = train_images.reshape(train_images.shape[0], nRows, nCols, nDims)\n",
    "test_data = test_images.reshape(test_images.shape[0], nRows, nCols, nDims)\n",
    "input_shape = (nRows, nCols, nDims)\n",
    "\n",
    "train_data = train_data.astype('float32')\n",
    "test_data = test_data.astype('float32')\n",
    "\n",
    "print('Training data shape : ', train_images.shape, train_labels.shape)\n",
    "\n",
    "print('Testing data shape : ', test_images.shape, test_labels.shape)\n",
    "\n",
    "# Find the unique numbers from the train labels\n",
    "classes = np.unique(train_labels)\n",
    "nClasses = len(classes)\n",
    "print('Total number of outputs : ', nClasses)\n",
    "print('Output classes : ', classes)\n",
    "\n",
    "plt.figure(figsize=[4,2])\n",
    "\n",
    "# Display the first image in training data\n",
    "plt.subplot(121)\n",
    "plt.imshow(train_images[0,:,:], cmap='gray')\n",
    "plt.title(\"Ground Truth : {}\".format(train_labels[0]))\n",
    "\n",
    "# Display the first image in testing data\n",
    "plt.subplot(122)\n",
    "plt.imshow(test_images[0,:,:], cmap='gray')\n",
    "plt.title(\"Ground Truth : {}\".format(test_labels[0]))"
   ]
  },
  {
   "cell_type": "code",
   "execution_count": null,
   "id": "64b608d2-6f6c-4f73-846f-ae7968752ae4",
   "metadata": {
    "ExecuteTime": {
     "end_time": "2024-08-05T22:27:24.027184Z",
     "start_time": "2024-08-05T22:27:23.836082Z"
    }
   },
   "outputs": [],
   "source": [
    "train_data /= 255\n",
    "test_data /= 255\n",
    "\n",
    "train_labels_one_hot = to_categorical(train_labels)\n",
    "test_labels_one_hot = to_categorical(test_labels)"
   ]
  },
  {
   "cell_type": "code",
   "execution_count": null,
   "id": "1edf1d18-f409-420d-a27d-a9d60ad2c83d",
   "metadata": {
    "ExecuteTime": {
     "end_time": "2024-08-05T22:27:25.215872Z",
     "start_time": "2024-08-05T22:27:25.211583Z"
    }
   },
   "outputs": [],
   "source": [
    "print('Original label 0 : ', train_labels[0])\n",
    "print('After conversion to categorical ( one-hot ) : ', train_labels_one_hot[0])"
   ]
  },
  {
   "cell_type": "code",
   "execution_count": null,
   "id": "c217eeba-6eea-46d8-a3cc-4f56b6dc4961",
   "metadata": {
    "ExecuteTime": {
     "end_time": "2024-08-05T22:27:26.544724Z",
     "start_time": "2024-08-05T22:27:26.537829Z"
    }
   },
   "outputs": [],
   "source": [
    "def createModel():\n",
    "    model = Sequential()\n",
    "    # The first two layers with 32 filters of window size 3x3\n",
    "    model.add(Conv2D(16, (3, 3), padding='same', activation='relu', input_shape=input_shape))\n",
    "    model.add(Conv2D(16, (3, 3), activation='relu'))\n",
    "    model.add(MaxPooling2D(pool_size=(2, 2)))\n",
    "    model.add(Dropout(0.25))\n",
    "    \n",
    "    model.add(Conv2D(16, (3, 3), padding='same', activation='relu'))\n",
    "    model.add(Conv2D(16, (3, 3), activation='relu'))\n",
    "    model.add(MaxPooling2D(pool_size=(2, 2)))\n",
    "    model.add(Dropout(0.25))\n",
    "\n",
    "    model.add(Flatten())\n",
    "    model.add(Dense(512, activation='relu'))\n",
    "    model.add(Dropout(0.5))\n",
    "    model.add(Dense(nClasses, activation='softmax'))\n",
    "    \n",
    "    return model"
   ]
  },
  {
   "cell_type": "code",
   "execution_count": null,
   "id": "8876e989-b41a-430e-84f9-cfbde1b2f251",
   "metadata": {
    "ExecuteTime": {
     "end_time": "2024-08-05T22:28:02.255768Z",
     "start_time": "2024-08-05T22:28:02.181544Z"
    }
   },
   "outputs": [],
   "source": [
    "model1 = createModel()\n",
    "batch_size = 256\n",
    "epochs = 20\n",
    "model1.compile(optimizer='adam', loss='categorical_crossentropy', metrics=['accuracy'], run_eagerly=True)"
   ]
  },
  {
   "cell_type": "code",
   "execution_count": null,
   "id": "4ae49b6d-f2c3-4bd7-844e-1f3ebd6831e2",
   "metadata": {
    "ExecuteTime": {
     "end_time": "2024-08-06T01:09:46.834359Z",
     "start_time": "2024-08-06T01:09:46.669557Z"
    }
   },
   "outputs": [],
   "source": [
    "model1.summary()"
   ]
  },
  {
   "cell_type": "code",
   "execution_count": null,
   "id": "7b84d452-27cb-4a0a-aab0-a1583879e930",
   "metadata": {
    "ExecuteTime": {
     "end_time": "2024-08-05T22:31:36.451097Z",
     "start_time": "2024-08-05T22:28:05.121996Z"
    }
   },
   "outputs": [],
   "source": [
    "history = model1.fit(\n",
    "    train_data\n",
    "    , train_labels_one_hot\n",
    "    , batch_size=batch_size\n",
    "    , epochs=epochs\n",
    "    , verbose=1\n",
    ")\n",
    "model1.evaluate(test_data, test_labels_one_hot)"
   ]
  },
  {
   "cell_type": "code",
   "execution_count": null,
   "id": "a7ba37ae-9816-4d8c-9711-81d77e5d6508",
   "metadata": {
    "ExecuteTime": {
     "end_time": "2024-08-05T22:31:49.847726Z",
     "start_time": "2024-08-05T22:31:49.638568Z"
    }
   },
   "outputs": [],
   "source": [
    "plt.figure(figsize=[8,6])\n",
    "plt.plot(history.history['accuracy'],'r',linewidth=3.0)\n",
    "plt.legend(['Training Accuracy'],fontsize=18)\n",
    "plt.xlabel('Epochs ',fontsize=16)\n",
    "plt.ylabel('Accuracy',fontsize=16)\n",
    "plt.title('Accuracy Curves',fontsize=16)"
   ]
  },
  {
   "cell_type": "code",
   "execution_count": null,
   "id": "cb6831e8-a956-4800-8d16-1a469c1cd8a6",
   "metadata": {
    "ExecuteTime": {
     "end_time": "2024-08-05T22:31:55.349612Z",
     "start_time": "2024-08-05T22:31:53.466062Z"
    }
   },
   "outputs": [],
   "source": [
    "predictions = model1.predict(test_data)"
   ]
  },
  {
   "cell_type": "markdown",
   "id": "9117590a-36c6-4540-b448-0a3ed97fbb9d",
   "metadata": {},
   "source": [
    "0 - Avion  \n",
    "1 - Carros  \n",
    "2 - Pajaro  \n",
    "3 - Gatos  \n",
    "4 - Venado  \n",
    "5 - Perros  \n",
    "6 - Ranas  \n",
    "7 - Caballos  \n",
    "8 - Botes  \n",
    "9 - Camiones  "
   ]
  },
  {
   "cell_type": "code",
   "execution_count": null,
   "id": "dac9a9f6-07fb-4bfc-b884-8f5b70e6d128",
   "metadata": {
    "ExecuteTime": {
     "end_time": "2024-08-05T22:32:00.085286Z",
     "start_time": "2024-08-05T22:31:58.434011Z"
    }
   },
   "outputs": [],
   "source": [
    "from sklearn.metrics import confusion_matrix, ConfusionMatrixDisplay\n",
    "cm = confusion_matrix(test_labels_one_hot.argmax(axis=1), predictions.argmax(axis=1))\n",
    "\n",
    "ConfusionMatrixDisplay(cm).plot()"
   ]
  },
  {
   "cell_type": "code",
   "execution_count": null,
   "id": "7a30fd82",
   "metadata": {},
   "outputs": [],
   "source": [
    "import tensorflow as tf\n",
    "from tensorflow.keras import layers, models, datasets, preprocessing\n",
    "\n",
    "# Cargar el dataset CIFAR-10\n",
    "(train_images, train_labels), (test_images, test_labels) = datasets.cifar10.load_data()\n",
    "\n",
    "# Normalizar las imágenes en un rango de 0 a 1\n",
    "train_images, test_images = train_images / 255.0, test_images / 255.0\n",
    "\n",
    "# Aumento de datos para mejorar la robustez del modelo\n",
    "data_augmentation = tf.keras.Sequential([\n",
    "  layers.RandomFlip(\"horizontal\"),\n",
    "  layers.RandomRotation(0.1),\n",
    "  layers.RandomZoom(0.1),\n",
    "])\n",
    "\n",
    "# Construir el modelo con capas adicionales y optimizaciones\n",
    "model = models.Sequential([\n",
    "    data_augmentation,\n",
    "    layers.Conv2D(32, (3, 3), activation='relu', input_shape=(32, 32, 3)),\n",
    "    layers.BatchNormalization(),\n",
    "    layers.MaxPooling2D((2, 2)),\n",
    "    layers.Dropout(0.2),\n",
    "    \n",
    "    layers.Conv2D(64, (3, 3), activation='relu'),\n",
    "    layers.BatchNormalization(),\n",
    "    layers.MaxPooling2D((2, 2)),\n",
    "    layers.Dropout(0.3),\n",
    "    \n",
    "    layers.Conv2D(128, (3, 3), activation='relu'),\n",
    "    layers.BatchNormalization(),\n",
    "    layers.MaxPooling2D((2, 2)),\n",
    "    layers.Dropout(0.4),\n",
    "    \n",
    "    layers.Flatten(),\n",
    "    layers.Dense(128, activation='relu'),\n",
    "    layers.Dropout(0.5),\n",
    "    layers.Dense(10, activation='softmax')\n",
    "])\n",
    "\n",
    "# Compilar el modelo\n",
    "model.compile(optimizer='adam',\n",
    "              loss='sparse_categorical_crossentropy',\n",
    "              metrics=['accuracy'])\n",
    "\n",
    "# Entrenar el modelo\n",
    "history = model.fit(train_images, train_labels, epochs=25, \n",
    "                    validation_data=(test_images, test_labels))\n",
    "\n",
    "# Evaluar el modelo en el conjunto de prueba\n",
    "test_loss, test_acc = model.evaluate(test_images, test_labels, verbose=2)\n",
    "\n",
    "print(f\"Test accuracy: {test_acc}\")\n"
   ]
  },
  {
   "cell_type": "code",
   "execution_count": null,
   "id": "63ae810c-bf16-42df-b613-7dd0d5fb6023",
   "metadata": {},
   "outputs": [],
   "source": []
  },
  {
   "cell_type": "code",
   "execution_count": 4,
   "id": "9374150c-2ec3-4728-bc90-dbd15965714b",
   "metadata": {},
   "outputs": [
    {
     "name": "stdout",
     "output_type": "stream",
     "text": [
      "Epoch 1/50\n",
      "\u001b[1m1563/1563\u001b[0m \u001b[32m━━━━━━━━━━━━━━━━━━━━\u001b[0m\u001b[37m\u001b[0m \u001b[1m231s\u001b[0m 145ms/step - accuracy: 0.2046 - loss: 2.8684 - val_accuracy: 0.4142 - val_loss: 1.6665\n",
      "Epoch 2/50\n",
      "\u001b[1m1563/1563\u001b[0m \u001b[32m━━━━━━━━━━━━━━━━━━━━\u001b[0m\u001b[37m\u001b[0m \u001b[1m247s\u001b[0m 158ms/step - accuracy: 0.3005 - loss: 2.1224 - val_accuracy: 0.4339 - val_loss: 1.5841\n",
      "Epoch 3/50\n",
      "\u001b[1m1563/1563\u001b[0m \u001b[32m━━━━━━━━━━━━━━━━━━━━\u001b[0m\u001b[37m\u001b[0m \u001b[1m257s\u001b[0m 164ms/step - accuracy: 0.3425 - loss: 1.9048 - val_accuracy: 0.4277 - val_loss: 1.6308\n",
      "Epoch 4/50\n",
      "\u001b[1m1563/1563\u001b[0m \u001b[32m━━━━━━━━━━━━━━━━━━━━\u001b[0m\u001b[37m\u001b[0m \u001b[1m242s\u001b[0m 155ms/step - accuracy: 0.3788 - loss: 1.7600 - val_accuracy: 0.4488 - val_loss: 1.5837\n",
      "Epoch 5/50\n",
      "\u001b[1m1563/1563\u001b[0m \u001b[32m━━━━━━━━━━━━━━━━━━━━\u001b[0m\u001b[37m\u001b[0m \u001b[1m226s\u001b[0m 145ms/step - accuracy: 0.4210 - loss: 1.6324 - val_accuracy: 0.4565 - val_loss: 1.5951\n",
      "Epoch 6/50\n",
      "\u001b[1m1563/1563\u001b[0m \u001b[32m━━━━━━━━━━━━━━━━━━━━\u001b[0m\u001b[37m\u001b[0m \u001b[1m250s\u001b[0m 160ms/step - accuracy: 0.4515 - loss: 1.5453 - val_accuracy: 0.5103 - val_loss: 1.3965\n",
      "Epoch 7/50\n",
      "\u001b[1m1563/1563\u001b[0m \u001b[32m━━━━━━━━━━━━━━━━━━━━\u001b[0m\u001b[37m\u001b[0m \u001b[1m241s\u001b[0m 154ms/step - accuracy: 0.4699 - loss: 1.4782 - val_accuracy: 0.5113 - val_loss: 1.4319\n",
      "Epoch 8/50\n",
      "\u001b[1m1563/1563\u001b[0m \u001b[32m━━━━━━━━━━━━━━━━━━━━\u001b[0m\u001b[37m\u001b[0m \u001b[1m225s\u001b[0m 144ms/step - accuracy: 0.5035 - loss: 1.3946 - val_accuracy: 0.5109 - val_loss: 1.4081\n",
      "Epoch 9/50\n",
      "\u001b[1m1563/1563\u001b[0m \u001b[32m━━━━━━━━━━━━━━━━━━━━\u001b[0m\u001b[37m\u001b[0m \u001b[1m219s\u001b[0m 140ms/step - accuracy: 0.5230 - loss: 1.3492 - val_accuracy: 0.5371 - val_loss: 1.3209\n",
      "Epoch 10/50\n",
      "\u001b[1m1563/1563\u001b[0m \u001b[32m━━━━━━━━━━━━━━━━━━━━\u001b[0m\u001b[37m\u001b[0m \u001b[1m218s\u001b[0m 139ms/step - accuracy: 0.5412 - loss: 1.3033 - val_accuracy: 0.5725 - val_loss: 1.2188\n",
      "Epoch 11/50\n",
      "\u001b[1m1563/1563\u001b[0m \u001b[32m━━━━━━━━━━━━━━━━━━━━\u001b[0m\u001b[37m\u001b[0m \u001b[1m220s\u001b[0m 141ms/step - accuracy: 0.5533 - loss: 1.2519 - val_accuracy: 0.5820 - val_loss: 1.1954\n",
      "Epoch 12/50\n",
      "\u001b[1m1563/1563\u001b[0m \u001b[32m━━━━━━━━━━━━━━━━━━━━\u001b[0m\u001b[37m\u001b[0m \u001b[1m221s\u001b[0m 142ms/step - accuracy: 0.5697 - loss: 1.2234 - val_accuracy: 0.5791 - val_loss: 1.1867\n",
      "Epoch 13/50\n",
      "\u001b[1m1563/1563\u001b[0m \u001b[32m━━━━━━━━━━━━━━━━━━━━\u001b[0m\u001b[37m\u001b[0m \u001b[1m231s\u001b[0m 148ms/step - accuracy: 0.5822 - loss: 1.1969 - val_accuracy: 0.6252 - val_loss: 1.0657\n",
      "Epoch 14/50\n",
      "\u001b[1m1563/1563\u001b[0m \u001b[32m━━━━━━━━━━━━━━━━━━━━\u001b[0m\u001b[37m\u001b[0m \u001b[1m227s\u001b[0m 145ms/step - accuracy: 0.5905 - loss: 1.1706 - val_accuracy: 0.6284 - val_loss: 1.0761\n",
      "Epoch 15/50\n",
      "\u001b[1m1563/1563\u001b[0m \u001b[32m━━━━━━━━━━━━━━━━━━━━\u001b[0m\u001b[37m\u001b[0m \u001b[1m219s\u001b[0m 140ms/step - accuracy: 0.6023 - loss: 1.1464 - val_accuracy: 0.6098 - val_loss: 1.1018\n",
      "Epoch 16/50\n",
      "\u001b[1m1563/1563\u001b[0m \u001b[32m━━━━━━━━━━━━━━━━━━━━\u001b[0m\u001b[37m\u001b[0m \u001b[1m216s\u001b[0m 138ms/step - accuracy: 0.6098 - loss: 1.1185 - val_accuracy: 0.6342 - val_loss: 1.0612\n",
      "Epoch 17/50\n",
      "\u001b[1m1563/1563\u001b[0m \u001b[32m━━━━━━━━━━━━━━━━━━━━\u001b[0m\u001b[37m\u001b[0m \u001b[1m236s\u001b[0m 151ms/step - accuracy: 0.6200 - loss: 1.1006 - val_accuracy: 0.6617 - val_loss: 0.9617\n",
      "Epoch 18/50\n",
      "\u001b[1m1563/1563\u001b[0m \u001b[32m━━━━━━━━━━━━━━━━━━━━\u001b[0m\u001b[37m\u001b[0m \u001b[1m225s\u001b[0m 144ms/step - accuracy: 0.6238 - loss: 1.0800 - val_accuracy: 0.6433 - val_loss: 1.0427\n",
      "Epoch 19/50\n",
      "\u001b[1m1563/1563\u001b[0m \u001b[32m━━━━━━━━━━━━━━━━━━━━\u001b[0m\u001b[37m\u001b[0m \u001b[1m211s\u001b[0m 135ms/step - accuracy: 0.6333 - loss: 1.0602 - val_accuracy: 0.6549 - val_loss: 0.9824\n",
      "Epoch 20/50\n",
      "\u001b[1m1563/1563\u001b[0m \u001b[32m━━━━━━━━━━━━━━━━━━━━\u001b[0m\u001b[37m\u001b[0m \u001b[1m204s\u001b[0m 131ms/step - accuracy: 0.6289 - loss: 1.0578 - val_accuracy: 0.6800 - val_loss: 0.9324\n",
      "Epoch 21/50\n",
      "\u001b[1m1563/1563\u001b[0m \u001b[32m━━━━━━━━━━━━━━━━━━━━\u001b[0m\u001b[37m\u001b[0m \u001b[1m219s\u001b[0m 140ms/step - accuracy: 0.6368 - loss: 1.0474 - val_accuracy: 0.6828 - val_loss: 0.9169\n",
      "Epoch 22/50\n",
      "\u001b[1m1563/1563\u001b[0m \u001b[32m━━━━━━━━━━━━━━━━━━━━\u001b[0m\u001b[37m\u001b[0m \u001b[1m220s\u001b[0m 141ms/step - accuracy: 0.6437 - loss: 1.0271 - val_accuracy: 0.6794 - val_loss: 0.9356\n",
      "Epoch 23/50\n",
      "\u001b[1m1563/1563\u001b[0m \u001b[32m━━━━━━━━━━━━━━━━━━━━\u001b[0m\u001b[37m\u001b[0m \u001b[1m223s\u001b[0m 143ms/step - accuracy: 0.6504 - loss: 1.0182 - val_accuracy: 0.6976 - val_loss: 0.8805\n",
      "Epoch 24/50\n",
      "\u001b[1m1563/1563\u001b[0m \u001b[32m━━━━━━━━━━━━━━━━━━━━\u001b[0m\u001b[37m\u001b[0m \u001b[1m225s\u001b[0m 144ms/step - accuracy: 0.6540 - loss: 0.9986 - val_accuracy: 0.6395 - val_loss: 1.0544\n",
      "Epoch 25/50\n",
      "\u001b[1m1563/1563\u001b[0m \u001b[32m━━━━━━━━━━━━━━━━━━━━\u001b[0m\u001b[37m\u001b[0m \u001b[1m229s\u001b[0m 147ms/step - accuracy: 0.6582 - loss: 0.9891 - val_accuracy: 0.6972 - val_loss: 0.8780\n",
      "Epoch 26/50\n",
      "\u001b[1m1563/1563\u001b[0m \u001b[32m━━━━━━━━━━━━━━━━━━━━\u001b[0m\u001b[37m\u001b[0m \u001b[1m266s\u001b[0m 149ms/step - accuracy: 0.6621 - loss: 0.9836 - val_accuracy: 0.7047 - val_loss: 0.8532\n",
      "Epoch 27/50\n",
      "\u001b[1m1563/1563\u001b[0m \u001b[32m━━━━━━━━━━━━━━━━━━━━\u001b[0m\u001b[37m\u001b[0m \u001b[1m215s\u001b[0m 138ms/step - accuracy: 0.6592 - loss: 0.9812 - val_accuracy: 0.6888 - val_loss: 0.8944\n",
      "Epoch 28/50\n",
      "\u001b[1m1563/1563\u001b[0m \u001b[32m━━━━━━━━━━━━━━━━━━━━\u001b[0m\u001b[37m\u001b[0m \u001b[1m227s\u001b[0m 145ms/step - accuracy: 0.6717 - loss: 0.9478 - val_accuracy: 0.7045 - val_loss: 0.8671\n",
      "Epoch 29/50\n",
      "\u001b[1m1563/1563\u001b[0m \u001b[32m━━━━━━━━━━━━━━━━━━━━\u001b[0m\u001b[37m\u001b[0m \u001b[1m223s\u001b[0m 143ms/step - accuracy: 0.6733 - loss: 0.9520 - val_accuracy: 0.7098 - val_loss: 0.8483\n",
      "Epoch 30/50\n",
      "\u001b[1m1563/1563\u001b[0m \u001b[32m━━━━━━━━━━━━━━━━━━━━\u001b[0m\u001b[37m\u001b[0m \u001b[1m215s\u001b[0m 137ms/step - accuracy: 0.6738 - loss: 0.9421 - val_accuracy: 0.7092 - val_loss: 0.8324\n",
      "Epoch 31/50\n",
      "\u001b[1m1563/1563\u001b[0m \u001b[32m━━━━━━━━━━━━━━━━━━━━\u001b[0m\u001b[37m\u001b[0m \u001b[1m226s\u001b[0m 145ms/step - accuracy: 0.6822 - loss: 0.9218 - val_accuracy: 0.7109 - val_loss: 0.8408\n",
      "Epoch 32/50\n",
      "\u001b[1m1563/1563\u001b[0m \u001b[32m━━━━━━━━━━━━━━━━━━━━\u001b[0m\u001b[37m\u001b[0m \u001b[1m223s\u001b[0m 143ms/step - accuracy: 0.6808 - loss: 0.9237 - val_accuracy: 0.7134 - val_loss: 0.8211\n",
      "Epoch 33/50\n",
      "\u001b[1m1563/1563\u001b[0m \u001b[32m━━━━━━━━━━━━━━━━━━━━\u001b[0m\u001b[37m\u001b[0m \u001b[1m200s\u001b[0m 128ms/step - accuracy: 0.6874 - loss: 0.9094 - val_accuracy: 0.6942 - val_loss: 0.8904\n",
      "Epoch 34/50\n",
      "\u001b[1m1563/1563\u001b[0m \u001b[32m━━━━━━━━━━━━━━━━━━━━\u001b[0m\u001b[37m\u001b[0m \u001b[1m257s\u001b[0m 165ms/step - accuracy: 0.6858 - loss: 0.9068 - val_accuracy: 0.7033 - val_loss: 0.8741\n",
      "Epoch 35/50\n",
      "\u001b[1m1563/1563\u001b[0m \u001b[32m━━━━━━━━━━━━━━━━━━━━\u001b[0m\u001b[37m\u001b[0m \u001b[1m219s\u001b[0m 140ms/step - accuracy: 0.6890 - loss: 0.9028 - val_accuracy: 0.7223 - val_loss: 0.8019\n",
      "Epoch 36/50\n",
      "\u001b[1m1563/1563\u001b[0m \u001b[32m━━━━━━━━━━━━━━━━━━━━\u001b[0m\u001b[37m\u001b[0m \u001b[1m216s\u001b[0m 138ms/step - accuracy: 0.6947 - loss: 0.8836 - val_accuracy: 0.7293 - val_loss: 0.7801\n",
      "Epoch 37/50\n",
      "\u001b[1m1563/1563\u001b[0m \u001b[32m━━━━━━━━━━━━━━━━━━━━\u001b[0m\u001b[37m\u001b[0m \u001b[1m260s\u001b[0m 167ms/step - accuracy: 0.6922 - loss: 0.8878 - val_accuracy: 0.7067 - val_loss: 0.8483\n",
      "Epoch 38/50\n",
      "\u001b[1m1563/1563\u001b[0m \u001b[32m━━━━━━━━━━━━━━━━━━━━\u001b[0m\u001b[37m\u001b[0m \u001b[1m228s\u001b[0m 146ms/step - accuracy: 0.6986 - loss: 0.8783 - val_accuracy: 0.7223 - val_loss: 0.7963\n",
      "Epoch 39/50\n",
      "\u001b[1m1563/1563\u001b[0m \u001b[32m━━━━━━━━━━━━━━━━━━━━\u001b[0m\u001b[37m\u001b[0m \u001b[1m217s\u001b[0m 139ms/step - accuracy: 0.7001 - loss: 0.8771 - val_accuracy: 0.7350 - val_loss: 0.7575\n",
      "Epoch 40/50\n",
      "\u001b[1m1563/1563\u001b[0m \u001b[32m━━━━━━━━━━━━━━━━━━━━\u001b[0m\u001b[37m\u001b[0m \u001b[1m218s\u001b[0m 140ms/step - accuracy: 0.7013 - loss: 0.8635 - val_accuracy: 0.7103 - val_loss: 0.8486\n",
      "Epoch 41/50\n",
      "\u001b[1m1563/1563\u001b[0m \u001b[32m━━━━━━━━━━━━━━━━━━━━\u001b[0m\u001b[37m\u001b[0m \u001b[1m193s\u001b[0m 123ms/step - accuracy: 0.6977 - loss: 0.8738 - val_accuracy: 0.7395 - val_loss: 0.7569\n",
      "Epoch 42/50\n",
      "\u001b[1m1563/1563\u001b[0m \u001b[32m━━━━━━━━━━━━━━━━━━━━\u001b[0m\u001b[37m\u001b[0m \u001b[1m197s\u001b[0m 126ms/step - accuracy: 0.7035 - loss: 0.8573 - val_accuracy: 0.7417 - val_loss: 0.7504\n",
      "Epoch 43/50\n",
      "\u001b[1m1563/1563\u001b[0m \u001b[32m━━━━━━━━━━━━━━━━━━━━\u001b[0m\u001b[37m\u001b[0m \u001b[1m197s\u001b[0m 126ms/step - accuracy: 0.7069 - loss: 0.8533 - val_accuracy: 0.7480 - val_loss: 0.7186\n",
      "Epoch 44/50\n",
      "\u001b[1m1563/1563\u001b[0m \u001b[32m━━━━━━━━━━━━━━━━━━━━\u001b[0m\u001b[37m\u001b[0m \u001b[1m197s\u001b[0m 126ms/step - accuracy: 0.7058 - loss: 0.8516 - val_accuracy: 0.7384 - val_loss: 0.7615\n",
      "Epoch 45/50\n",
      "\u001b[1m1563/1563\u001b[0m \u001b[32m━━━━━━━━━━━━━━━━━━━━\u001b[0m\u001b[37m\u001b[0m \u001b[1m197s\u001b[0m 126ms/step - accuracy: 0.7086 - loss: 0.8444 - val_accuracy: 0.7317 - val_loss: 0.7706\n",
      "Epoch 46/50\n",
      "\u001b[1m1563/1563\u001b[0m \u001b[32m━━━━━━━━━━━━━━━━━━━━\u001b[0m\u001b[37m\u001b[0m \u001b[1m198s\u001b[0m 127ms/step - accuracy: 0.7085 - loss: 0.8455 - val_accuracy: 0.7459 - val_loss: 0.7337\n",
      "Epoch 47/50\n",
      "\u001b[1m1563/1563\u001b[0m \u001b[32m━━━━━━━━━━━━━━━━━━━━\u001b[0m\u001b[37m\u001b[0m \u001b[1m195s\u001b[0m 125ms/step - accuracy: 0.7164 - loss: 0.8174 - val_accuracy: 0.7403 - val_loss: 0.7529\n",
      "Epoch 48/50\n",
      "\u001b[1m1563/1563\u001b[0m \u001b[32m━━━━━━━━━━━━━━━━━━━━\u001b[0m\u001b[37m\u001b[0m \u001b[1m196s\u001b[0m 125ms/step - accuracy: 0.7164 - loss: 0.8271 - val_accuracy: 0.7584 - val_loss: 0.7107\n",
      "Epoch 49/50\n",
      "\u001b[1m1563/1563\u001b[0m \u001b[32m━━━━━━━━━━━━━━━━━━━━\u001b[0m\u001b[37m\u001b[0m \u001b[1m197s\u001b[0m 126ms/step - accuracy: 0.7136 - loss: 0.8314 - val_accuracy: 0.7447 - val_loss: 0.7424\n",
      "Epoch 50/50\n",
      "\u001b[1m1563/1563\u001b[0m \u001b[32m━━━━━━━━━━━━━━━━━━━━\u001b[0m\u001b[37m\u001b[0m \u001b[1m197s\u001b[0m 126ms/step - accuracy: 0.7189 - loss: 0.8217 - val_accuracy: 0.7425 - val_loss: 0.7556\n",
      "313/313 - 5s - 17ms/step - accuracy: 0.7425 - loss: 0.7556\n",
      "Test accuracy: 0.7425000071525574\n"
     ]
    }
   ],
   "source": [
    "import tensorflow as tf\n",
    "from tensorflow.keras import layers, models, datasets\n",
    "from keras.datasets import cifar10\n",
    "\n",
    "# Cargar el dataset CIFAR-10\n",
    "(train_images, train_labels), (test_images, test_labels) = datasets.cifar10.load_data()\n",
    "\n",
    "# Normalizar las imágenes en un rango de 0 a 1\n",
    "train_images, test_images = train_images / 255.0, test_images / 255.0\n",
    "\n",
    "# Aumento de datos para mejorar la robustez del modelo\n",
    "data_augmentation = tf.keras.Sequential([\n",
    "  layers.RandomFlip(\"horizontal\"),\n",
    "  layers.RandomRotation(0.2),\n",
    "  layers.RandomZoom(0.2),\n",
    "])\n",
    "\n",
    "# Construir el modelo con capas adicionales y optimizaciones\n",
    "model = models.Sequential([\n",
    "    data_augmentation,\n",
    "    layers.Conv2D(64, (3, 3), activation='relu', input_shape=(32, 32, 3)),\n",
    "    layers.BatchNormalization(),\n",
    "    layers.Conv2D(64, (3, 3), activation='relu'),\n",
    "    layers.BatchNormalization(),\n",
    "    layers.MaxPooling2D((2, 2)),\n",
    "    layers.Dropout(0.3),\n",
    "    \n",
    "    layers.Conv2D(128, (3, 3), activation='relu'),\n",
    "    layers.BatchNormalization(),\n",
    "    layers.Conv2D(128, (3, 3), activation='relu'),\n",
    "    layers.BatchNormalization(),\n",
    "    layers.MaxPooling2D((2, 2)),\n",
    "    layers.Dropout(0.4),\n",
    "    \n",
    "    layers.Conv2D(256, (3, 3), activation='relu'),\n",
    "    layers.BatchNormalization(),\n",
    "    layers.Dropout(0.5),\n",
    "    \n",
    "    layers.Flatten(),\n",
    "    layers.Dense(256, activation='relu'),\n",
    "    layers.BatchNormalization(),\n",
    "    layers.Dropout(0.5),\n",
    "    layers.Dense(10, activation='softmax')\n",
    "])\n",
    "\n",
    "# Compilar el modelo\n",
    "model.compile(optimizer=tf.keras.optimizers.Adam(learning_rate=0.0001),\n",
    "              loss='sparse_categorical_crossentropy',\n",
    "              metrics=['accuracy'])\n",
    "\n",
    "# Entrenar el modelo\n",
    "history = model.fit(train_images, train_labels, epochs=50, \n",
    "                    validation_data=(test_images, test_labels))\n",
    "\n",
    "# Evaluar el modelo en el conjunto de prueba\n",
    "test_loss, test_acc = model.evaluate(test_images, test_labels, verbose=2)\n",
    "\n",
    "print(f\"Test accuracy: {test_acc}\")\n"
   ]
  },
  {
   "cell_type": "code",
   "execution_count": null,
   "id": "eed20a70-de9a-448f-a252-1940d6b81697",
   "metadata": {},
   "outputs": [],
   "source": []
  }
 ],
 "metadata": {
  "kernelspec": {
   "display_name": "Python 3 (ipykernel)",
   "language": "python",
   "name": "python3"
  },
  "language_info": {
   "codemirror_mode": {
    "name": "ipython",
    "version": 3
   },
   "file_extension": ".py",
   "mimetype": "text/x-python",
   "name": "python",
   "nbconvert_exporter": "python",
   "pygments_lexer": "ipython3",
   "version": "3.10.12"
  }
 },
 "nbformat": 4,
 "nbformat_minor": 5
}
