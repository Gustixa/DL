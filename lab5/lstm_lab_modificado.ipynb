{
 "cells": [
  {
   "cell_type": "code",
   "execution_count": 1,
   "id": "91043135adcb586d",
   "metadata": {
    "ExecuteTime": {
     "end_time": "2024-08-23T21:54:14.474320Z",
     "start_time": "2024-08-23T21:54:10.705452Z"
    },
    "collapsed": false,
    "jupyter": {
     "outputs_hidden": false
    }
   },
   "outputs": [],
   "source": [
    "import numpy as np\n",
    "from tensorflow.keras.datasets import imdb\n",
    "from tensorflow.keras.preprocessing.sequence import pad_sequences\n",
    "from tensorflow.keras.models import Sequential\n",
    "from tensorflow.keras.layers import LSTM, Dense, Embedding"
   ]
  },
  {
   "cell_type": "code",
   "execution_count": 2,
   "id": "8b431afa000f87ac",
   "metadata": {
    "ExecuteTime": {
     "end_time": "2024-08-23T21:58:58.671618Z",
     "start_time": "2024-08-23T21:58:58.666414Z"
    },
    "collapsed": false,
    "jupyter": {
     "outputs_hidden": false
    }
   },
   "outputs": [],
   "source": [
    "# Load and preprocess the data\n",
    "max_features = 400\n",
    "maxlen = 300"
   ]
  },
  {
   "cell_type": "code",
   "execution_count": 3,
   "id": "82e732bca9daccc8",
   "metadata": {
    "ExecuteTime": {
     "end_time": "2024-08-23T21:59:02.622047Z",
     "start_time": "2024-08-23T21:59:00.129751Z"
    },
    "collapsed": false,
    "jupyter": {
     "outputs_hidden": false
    }
   },
   "outputs": [],
   "source": [
    "(X_train, y_train), (X_test, y_test) = imdb.load_data(num_words=max_features)\n",
    "X_train = pad_sequences(X_train, maxlen=maxlen)\n",
    "X_test = pad_sequences(X_test, maxlen=maxlen)"
   ]
  },
  {
   "cell_type": "code",
   "execution_count": 4,
   "id": "992fcbe3d61aed31",
   "metadata": {
    "ExecuteTime": {
     "end_time": "2024-08-23T21:59:04.092213Z",
     "start_time": "2024-08-23T21:59:03.942657Z"
    },
    "collapsed": false,
    "jupyter": {
     "outputs_hidden": false
    }
   },
   "outputs": [
    {
     "name": "stdout",
     "output_type": "stream",
     "text": [
      "Epoch 1/10\n"
     ]
    },
    {
     "name": "stderr",
     "output_type": "stream",
     "text": [
      "c:\\Users\\marce\\AppData\\Local\\Programs\\Python\\Python312\\Lib\\site-packages\\keras\\src\\layers\\core\\embedding.py:90: UserWarning: Argument `input_length` is deprecated. Just remove it.\n",
      "  warnings.warn(\n"
     ]
    },
    {
     "name": "stdout",
     "output_type": "stream",
     "text": [
      "\u001b[1m625/625\u001b[0m \u001b[32m━━━━━━━━━━━━━━━━━━━━\u001b[0m\u001b[37m\u001b[0m \u001b[1m766s\u001b[0m 1s/step - accuracy: 0.6063 - loss: 0.6293 - val_accuracy: 0.8470 - val_loss: 0.3691\n",
      "Epoch 2/10\n",
      "\u001b[1m625/625\u001b[0m \u001b[32m━━━━━━━━━━━━━━━━━━━━\u001b[0m\u001b[37m\u001b[0m \u001b[1m562s\u001b[0m 898ms/step - accuracy: 0.8831 - loss: 0.2978 - val_accuracy: 0.8620 - val_loss: 0.3309\n",
      "Epoch 3/10\n",
      "\u001b[1m625/625\u001b[0m \u001b[32m━━━━━━━━━━━━━━━━━━━━\u001b[0m\u001b[37m\u001b[0m \u001b[1m550s\u001b[0m 880ms/step - accuracy: 0.9145 - loss: 0.2290 - val_accuracy: 0.8638 - val_loss: 0.3279\n",
      "Epoch 4/10\n",
      "\u001b[1m625/625\u001b[0m \u001b[32m━━━━━━━━━━━━━━━━━━━━\u001b[0m\u001b[37m\u001b[0m \u001b[1m585s\u001b[0m 937ms/step - accuracy: 0.9422 - loss: 0.1574 - val_accuracy: 0.8626 - val_loss: 0.3865\n",
      "Epoch 5/10\n",
      "\u001b[1m625/625\u001b[0m \u001b[32m━━━━━━━━━━━━━━━━━━━━\u001b[0m\u001b[37m\u001b[0m \u001b[1m607s\u001b[0m 971ms/step - accuracy: 0.9631 - loss: 0.1060 - val_accuracy: 0.8614 - val_loss: 0.4628\n",
      "Epoch 6/10\n",
      "\u001b[1m625/625\u001b[0m \u001b[32m━━━━━━━━━━━━━━━━━━━━\u001b[0m\u001b[37m\u001b[0m \u001b[1m512s\u001b[0m 819ms/step - accuracy: 0.9767 - loss: 0.0641 - val_accuracy: 0.8706 - val_loss: 0.4298\n",
      "\u001b[1m782/782\u001b[0m \u001b[32m━━━━━━━━━━━━━━━━━━━━\u001b[0m\u001b[37m\u001b[0m \u001b[1m122s\u001b[0m 156ms/step - accuracy: 0.8540 - loss: 0.3546\n",
      "Test Score: 0.34707924723625183\n",
      "Test Accuracy: 0.8581600189208984\n",
      "\u001b[1m782/782\u001b[0m \u001b[32m━━━━━━━━━━━━━━━━━━━━\u001b[0m\u001b[37m\u001b[0m \u001b[1m123s\u001b[0m 158ms/step\n",
      "Accuracy: 0.85816\n"
     ]
    }
   ],
   "source": [
    "\n",
    "from keras.datasets import imdb\n",
    "from keras.models import Sequential\n",
    "from keras.layers import Dense, LSTM, Embedding, Dropout, BatchNormalization\n",
    "from keras.preprocessing import sequence\n",
    "from keras.callbacks import EarlyStopping\n",
    "from keras.optimizers import Adam\n",
    "from sklearn.metrics import accuracy_score\n",
    "\n",
    "\n",
    "max_features = 20000  # Aumentamos la cantidad de palabras tomadas en cuenta\n",
    "maxlen = 600          # Aumentamos la longitud máxima de las reseñas\n",
    "embedding_size = 256  # Embedding más grande para capturar mejor relaciones entre palabras\n",
    "\n",
    "# Cargar el dataset IMDB\n",
    "(X_train, y_train), (X_test, y_test) = imdb.load_data(num_words=max_features)\n",
    "\n",
    "\n",
    "X_train = sequence.pad_sequences(X_train, maxlen=maxlen)\n",
    "X_test = sequence.pad_sequences(X_test, maxlen=maxlen)\n",
    "\n",
    "# Construcción del modelo mejorado\n",
    "model = Sequential()\n",
    "model.add(Embedding(max_features, embedding_size, input_length=maxlen))\n",
    "model.add(LSTM(128, return_sequences=True))  # Primera capa LSTM\n",
    "model.add(BatchNormalization())             # Normalización de batch para mejorar estabilidad\n",
    "model.add(Dropout(0.3))                     # Dropout para evitar sobreajuste\n",
    "model.add(LSTM(128, return_sequences=False)) # Segunda capa LSTM para mayor complejidad\n",
    "model.add(Dropout(0.3))                     # Dropout para evitar sobreajuste\n",
    "model.add(Dense(64, activation='relu'))      # Capa densa intermedia para mayor aprendizaje\n",
    "model.add(Dropout(0.2))                      # Otro Dropout\n",
    "model.add(Dense(1, activation='sigmoid'))    # Salida para clasificación binaria\n",
    "\n",
    "# Optimización y compilación del modelo\n",
    "optimizer = Adam(learning_rate=0.001)  # Ajuste fino de la tasa de aprendizaje\n",
    "model.compile(loss='binary_crossentropy',\n",
    "              optimizer=optimizer,\n",
    "              metrics=['accuracy'])\n",
    "\n",
    "# Early stopping para evitar sobreentrenamiento\n",
    "early_stopping = EarlyStopping(monitor='val_loss', patience=3, restore_best_weights=True)\n",
    "\n",
    "# Entrenamiento del modelo mejorado\n",
    "model.fit(X_train, y_train, batch_size=32, epochs=10, validation_split=0.2, \n",
    "          callbacks=[early_stopping])\n",
    "\n",
    "# Evaluación\n",
    "score, acc = model.evaluate(X_test, y_test)\n",
    "print(f\"Test Score: {score}\")\n",
    "print(f\"Test Accuracy: {acc}\")\n",
    "\n",
    "# Predicción\n",
    "y_pred = model.predict(X_test)\n",
    "y_pred_binary = (y_pred > 0.5).astype(int)\n",
    "\n",
    "\n",
    "accuracy = accuracy_score(y_test, y_pred_binary)\n",
    "print(f\"Accuracy: {accuracy}\")\n"
   ]
  },
  {
   "cell_type": "code",
   "execution_count": 5,
   "id": "e83df3dac93d17bf",
   "metadata": {
    "ExecuteTime": {
     "end_time": "2024-08-23T22:08:38.422888Z",
     "start_time": "2024-08-23T21:59:08.283610Z"
    },
    "collapsed": false,
    "jupyter": {
     "outputs_hidden": false
    }
   },
   "outputs": [
    {
     "name": "stdout",
     "output_type": "stream",
     "text": [
      "Epoch 1/10\n",
      "\u001b[1m391/391\u001b[0m \u001b[32m━━━━━━━━━━━━━━━━━━━━\u001b[0m\u001b[37m\u001b[0m \u001b[1m828s\u001b[0m 2s/step - accuracy: 0.9347 - loss: 0.1805 - val_accuracy: 0.8573 - val_loss: 0.4122\n",
      "Epoch 2/10\n",
      "\u001b[1m391/391\u001b[0m \u001b[32m━━━━━━━━━━━━━━━━━━━━\u001b[0m\u001b[37m\u001b[0m \u001b[1m872s\u001b[0m 2s/step - accuracy: 0.9585 - loss: 0.1215 - val_accuracy: 0.8630 - val_loss: 0.3639\n",
      "Epoch 3/10\n",
      "\u001b[1m391/391\u001b[0m \u001b[32m━━━━━━━━━━━━━━━━━━━━\u001b[0m\u001b[37m\u001b[0m \u001b[1m1041s\u001b[0m 3s/step - accuracy: 0.9773 - loss: 0.0725 - val_accuracy: 0.8632 - val_loss: 0.4157\n",
      "Epoch 4/10\n",
      "\u001b[1m391/391\u001b[0m \u001b[32m━━━━━━━━━━━━━━━━━━━━\u001b[0m\u001b[37m\u001b[0m \u001b[1m1206s\u001b[0m 3s/step - accuracy: 0.9864 - loss: 0.0443 - val_accuracy: 0.8558 - val_loss: 0.5361\n",
      "Epoch 5/10\n",
      "\u001b[1m391/391\u001b[0m \u001b[32m━━━━━━━━━━━━━━━━━━━━\u001b[0m\u001b[37m\u001b[0m \u001b[1m1226s\u001b[0m 3s/step - accuracy: 0.9912 - loss: 0.0287 - val_accuracy: 0.8446 - val_loss: 0.6944\n",
      "Epoch 6/10\n",
      "\u001b[1m391/391\u001b[0m \u001b[32m━━━━━━━━━━━━━━━━━━━━\u001b[0m\u001b[37m\u001b[0m \u001b[1m48966s\u001b[0m 126s/step - accuracy: 0.9930 - loss: 0.0228 - val_accuracy: 0.8652 - val_loss: 0.6347\n",
      "Epoch 7/10\n",
      "\u001b[1m391/391\u001b[0m \u001b[32m━━━━━━━━━━━━━━━━━━━━\u001b[0m\u001b[37m\u001b[0m \u001b[1m1136s\u001b[0m 3s/step - accuracy: 0.9909 - loss: 0.0242 - val_accuracy: 0.8586 - val_loss: 0.5711\n",
      "Epoch 8/10\n",
      "\u001b[1m391/391\u001b[0m \u001b[32m━━━━━━━━━━━━━━━━━━━━\u001b[0m\u001b[37m\u001b[0m \u001b[1m1129s\u001b[0m 3s/step - accuracy: 0.9932 - loss: 0.0235 - val_accuracy: 0.8615 - val_loss: 0.7146\n",
      "Epoch 9/10\n",
      "\u001b[1m391/391\u001b[0m \u001b[32m━━━━━━━━━━━━━━━━━━━━\u001b[0m\u001b[37m\u001b[0m \u001b[1m1385s\u001b[0m 4s/step - accuracy: 0.9960 - loss: 0.0116 - val_accuracy: 0.8550 - val_loss: 0.7776\n",
      "Epoch 10/10\n",
      "\u001b[1m391/391\u001b[0m \u001b[32m━━━━━━━━━━━━━━━━━━━━\u001b[0m\u001b[37m\u001b[0m \u001b[1m3729s\u001b[0m 10s/step - accuracy: 0.9937 - loss: 0.0196 - val_accuracy: 0.8537 - val_loss: 0.6462\n"
     ]
    },
    {
     "data": {
      "text/plain": [
       "<keras.src.callbacks.history.History at 0x1e2b2d560f0>"
      ]
     },
     "execution_count": 5,
     "metadata": {},
     "output_type": "execute_result"
    }
   ],
   "source": [
    "# Fit the model\n",
    "model.fit(X_train, y_train, epochs=10, batch_size=64, validation_data=(X_test, y_test))"
   ]
  },
  {
   "cell_type": "code",
   "execution_count": 6,
   "id": "initial_id",
   "metadata": {
    "ExecuteTime": {
     "end_time": "2024-08-23T22:09:29.984661Z",
     "start_time": "2024-08-23T22:08:51.818689Z"
    },
    "collapsed": true,
    "jupyter": {
     "outputs_hidden": true
    }
   },
   "outputs": [
    {
     "name": "stdout",
     "output_type": "stream",
     "text": [
      "\u001b[1m782/782\u001b[0m \u001b[32m━━━━━━━━━━━━━━━━━━━━\u001b[0m\u001b[37m\u001b[0m \u001b[1m142s\u001b[0m 181ms/step - accuracy: 0.8514 - loss: 0.6655\n",
      "Loss: 0.6461495757102966, Accuracy: 0.8537200093269348\n"
     ]
    }
   ],
   "source": [
    "# Evaluate the model\n",
    "loss, accuracy = model.evaluate(X_test, y_test)\n",
    "print(f'Loss: {loss}, Accuracy: {accuracy}') "
   ]
  },
  {
   "cell_type": "code",
   "execution_count": 7,
   "id": "3bb2ee38b64202ac",
   "metadata": {
    "ExecuteTime": {
     "end_time": "2024-08-23T22:25:59.512702Z",
     "start_time": "2024-08-23T22:25:59.378762Z"
    },
    "collapsed": false,
    "jupyter": {
     "outputs_hidden": false
    }
   },
   "outputs": [
    {
     "name": "stdout",
     "output_type": "stream",
     "text": [
      "\u001b[1m782/782\u001b[0m \u001b[32m━━━━━━━━━━━━━━━━━━━━\u001b[0m\u001b[37m\u001b[0m \u001b[1m134s\u001b[0m 171ms/step\n"
     ]
    },
    {
     "data": {
      "text/plain": [
       "<function sklearn.metrics._classification.confusion_matrix(y_true, y_pred, *, labels=None, sample_weight=None, normalize=None)>"
      ]
     },
     "execution_count": 7,
     "metadata": {},
     "output_type": "execute_result"
    },
    {
     "data": {
      "image/png": "[encoded data removed]",
      "text/plain": [
       "<Figure size 640x480 with 2 Axes>"
      ]
     },
     "metadata": {},
     "output_type": "display_data"
    }
   ],
   "source": [
    "from sklearn.metrics import confusion_matrix, ConfusionMatrixDisplay\n",
    "\n",
    "predictions = model.predict(X_test)\n",
    "cm = confusion_matrix(y_test, (predictions > 0.5).astype(int))\n",
    "ConfusionMatrixDisplay(cm).plot()\n",
    "confusion_matrix\n"
   ]
  }
 ],
 "metadata": {
  "kernelspec": {
   "display_name": "Python 3 (ipykernel)",
   "language": "python",
   "name": "python3"
  },
  "language_info": {
   "codemirror_mode": {
    "name": "ipython",
    "version": 3
   },
   "file_extension": ".py",
   "mimetype": "text/x-python",
   "name": "python",
   "nbconvert_exporter": "python",
   "pygments_lexer": "ipython3",
   "version": "3.10.12"
  }
 },
 "nbformat": 4,
 "nbformat_minor": 5
}
