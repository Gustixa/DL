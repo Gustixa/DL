{
 "cells": [
  {
   "cell_type": "code",
   "execution_count": null,
   "id": "ec8dc36e0473657d",
   "metadata": {
    "ExecuteTime": {
     "end_time": "2024-10-04T06:16:33.480262Z",
     "start_time": "2024-10-04T06:16:32.408536Z"
    },
    "jupyter": {
     "outputs_hidden": false
    }
   },
   "outputs": [],
   "source": [
    "import torch\n",
    "import torch.nn as nn\n",
    "import math"
   ]
  },
  {
   "cell_type": "code",
   "execution_count": null,
   "id": "9d1f583d3356e6ae",
   "metadata": {
    "ExecuteTime": {
     "end_time": "2024-10-04T06:16:36.794959Z",
     "start_time": "2024-10-04T06:16:36.790425Z"
    },
    "jupyter": {
     "outputs_hidden": false
    }
   },
   "outputs": [],
   "source": [
    "class LayerNormalization(nn.Module):\n",
    "    \"\"\"\n",
    "         Normalización de capas para ajustar los valores de entrada y estabilizar el entrenamiento.\n",
    "         Esto con el fin de no tener valores disparejos y obtener una media para todos (media ajustada).\n",
    "    \"\"\"\n",
    "    def __init__(self, features: int, eps:float=10**-6) -> None:\n",
    "        super().__init__()\n",
    "        self.eps = eps\n",
    "        self.alpha = nn.Parameter(torch.ones(features)) # alpha is a learnable parameter\n",
    "        self.bias = nn.Parameter(torch.zeros(features)) # bias is a learnable parameter\n",
    "\n",
    "    def forward(self, x):\n",
    "        '''\n",
    "             Ajustar los valores usando la media, desviacion, alpha y bias.\n",
    "        '''\n",
    "        mean = x.mean(dim = -1, keepdim = True) # Media de la ultima dimension\n",
    "        std = x.std(dim = -1, keepdim = True)  #Desviasión estandar\n",
    "        return self.alpha * (x - mean) / (std + self.eps) + self.bias"
   ]
  },
  {
   "cell_type": "code",
   "execution_count": null,
   "id": "c6c41cd1eeba9f36",
   "metadata": {
    "ExecuteTime": {
     "end_time": "2024-10-04T06:16:46.526151Z",
     "start_time": "2024-10-04T06:16:46.514438Z"
    },
    "jupyter": {
     "outputs_hidden": false
    }
   },
   "outputs": [],
   "source": [
    "class FeedForwardBlock(nn.Module):\n",
    "    \"\"\"\n",
    "        Aplicar dos transformaciones lineales con una activación no lineal (ReLU intermedia) y un dropout entre ellas\n",
    "    \"\"\"\n",
    "    def __init__(self, d_model: int, d_ff: int, dropout: float) -> None:\n",
    "        super().__init__()\n",
    "        self.linear_1 = nn.Linear(d_model, d_ff) # capa\n",
    "        self.dropout = nn.Dropout(dropout) # Dropout para regularizacion\n",
    "        self.linear_2 = nn.Linear(d_ff, d_model) # capa\n",
    "\n",
    "    def forward(self, x):\n",
    "        '''\n",
    "            Se aplican todos los elementos. En este caso, la transformación lineal, activación, dropout y luego la segunda transformación\n",
    "        '''\n",
    "        return self.linear_2(self.dropout(torch.relu(self.linear_1(x))))"
   ]
  },
  {
   "cell_type": "code",
   "execution_count": null,
   "id": "daab70ff78271aab",
   "metadata": {
    "ExecuteTime": {
     "end_time": "2024-10-04T06:16:50.226749Z",
     "start_time": "2024-10-04T06:16:50.221461Z"
    },
    "jupyter": {
     "outputs_hidden": false
    }
   },
   "outputs": [],
   "source": [
    "class InputEmbeddings(nn.Module):\n",
    "    \"\"\"\n",
    "        Convierte los índices de vocabulario en vectores densos (embeddings)\n",
    "        de tamaño d_model.\n",
    "    \"\"\"\n",
    "    def __init__(self, d_model: int, vocab_size: int) -> None:\n",
    "        super().__init__()\n",
    "        self.d_model = d_model # Dimension\n",
    "        self.vocab_size = vocab_size\n",
    "        self.embedding = nn.Embedding(vocab_size, d_model)\n",
    "\n",
    "    def forward(self, x):\n",
    "        '''\n",
    "             Multiplicación por la raíz cuadrada de d_model para los vectores densos.\n",
    "        '''\n",
    "        return self.embedding(x) * math.sqrt(self.d_model)\n",
    "    "
   ]
  },
  {
   "cell_type": "code",
   "execution_count": null,
   "id": "2d7ab738d06eb466",
   "metadata": {
    "ExecuteTime": {
     "end_time": "2024-10-04T06:16:53.785818Z",
     "start_time": "2024-10-04T06:16:53.776620Z"
    },
    "jupyter": {
     "outputs_hidden": false
    }
   },
   "outputs": [],
   "source": [
    "class PositionalEncoding(nn.Module):\n",
    "    \"\"\"\n",
    "         Ayuda para poder obtener el orden de las palabras, agregando información posicional a los embeddings de entrada  \n",
    "    \"\"\"\n",
    "    def __init__(self, d_model: int, seq_len: int, dropout: float) -> None:\n",
    "        super().__init__()\n",
    "        self.d_model = d_model\n",
    "        self.seq_len = seq_len\n",
    "        self.dropout = nn.Dropout(dropout)\n",
    "        \n",
    "        pe = torch.zeros(seq_len, d_model) # Generar posiciones\n",
    "        position = torch.arange(0, seq_len, dtype=torch.float).unsqueeze(1) # Calcular frecuencia de cada dimensión\n",
    "        div_term = torch.exp(torch.arange(0, d_model, 2).float() * (-math.log(10000.0) / d_model))\n",
    "        # aplicar seno y coseno\n",
    "        pe[:, 0::2] = torch.sin(position * div_term)\n",
    "        pe[:, 1::2] = torch.cos(position * div_term) \n",
    "        pe = pe.unsqueeze(0) \n",
    "        self.register_buffer('pe', pe)\n",
    "\n",
    "    def forward(self, x):\n",
    "        '''\n",
    "             Agregar la posicion a los embeddings\n",
    "        '''\n",
    "        x = x + (self.pe[:, :x.shape[1], :]).requires_grad_(False) # (batch, seq_len, d_model)\n",
    "        return self.dropout(x)"
   ]
  },
  {
   "cell_type": "code",
   "execution_count": null,
   "id": "b390e443e3431509",
   "metadata": {
    "ExecuteTime": {
     "end_time": "2024-10-04T06:16:56.169338Z",
     "start_time": "2024-10-04T06:16:56.160187Z"
    },
    "jupyter": {
     "outputs_hidden": false
    }
   },
   "outputs": [],
   "source": [
    "class ResidualConnection(nn.Module):\n",
    "    \"\"\"\n",
    "        Aplica normalización de capas y dropout.\n",
    "    \"\"\"    \n",
    "        def __init__(self, features: int, dropout: float) -> None:\n",
    "            super().__init__()\n",
    "            self.dropout = nn.Dropout(dropout)\n",
    "            self.norm = LayerNormalization(features)\n",
    "    \n",
    "        def forward(self, x, sublayer):\n",
    "            '''\n",
    "                Aplicar el dropout y normalización.\n",
    "            '''\n",
    "            return x + self.dropout(sublayer(self.norm(x)))\n"
   ]
  },
  {
   "cell_type": "code",
   "execution_count": null,
   "id": "f60a40ee5a93f250",
   "metadata": {
    "ExecuteTime": {
     "end_time": "2024-10-04T06:16:58.474673Z",
     "start_time": "2024-10-04T06:16:58.461541Z"
    },
    "jupyter": {
     "outputs_hidden": false
    }
   },
   "outputs": [],
   "source": [
    "class MultiHeadAttentionBlock(nn.Module):\n",
    "    \"\"\"\n",
    "        Se calcula la ponderación entre las entradas, esto ayuda a determinar\n",
    "        la importancia en cada token, es decir, que tenga sentido o no en la\n",
    "        sentencia.\n",
    "    \"\"\"\n",
    "\n",
    "    def __init__(self, d_model: int, h: int, dropout: float) -> None:\n",
    "        super().__init__()\n",
    "        self.d_model = d_model \n",
    "        self.h = h # Cabezas\n",
    "        assert d_model % h == 0, \"d_model is not divisible by h\"\n",
    "\n",
    "        self.d_k = d_model // h \n",
    "        # Proyecciones Q, K y V\n",
    "        self.w_q = nn.Linear(d_model, d_model, bias=False)\n",
    "        self.w_k = nn.Linear(d_model, d_model, bias=False) \n",
    "        self.w_v = nn.Linear(d_model, d_model, bias=False) \n",
    "        self.w_o = nn.Linear(d_model, d_model, bias=False) \n",
    "        self.dropout = nn.Dropout(dropout)\n",
    "\n",
    "    @staticmethod\n",
    "    def attention(query, key, value, mask, dropout: nn.Dropout):\n",
    "        '''\n",
    "            Puntaje de la atencion\n",
    "        '''\n",
    "        d_k = query.shape[-1]\n",
    "        attention_scores = (query @ key.transpose(-2, -1)) / math.sqrt(d_k)\n",
    "        if mask is not None:\n",
    "            attention_scores.masked_fill_(mask == 0, -1e9)\n",
    "        attention_scores = attention_scores.softmax(dim=-1) \n",
    "        if dropout is not None:\n",
    "            attention_scores = dropout(attention_scores)\n",
    "        return (attention_scores @ value), attention_scores\n",
    "\n",
    "    def forward(self, q, k, v, mask):\n",
    "        '''\n",
    "            Aplicar proyecciones\n",
    "        '''\n",
    "        query = self.w_q(q) \n",
    "        key = self.w_k(k) \n",
    "        value = self.w_v(v) \n",
    "        # Dividir las matrices (K) en varias cabezas\n",
    "        query = query.view(query.shape[0], query.shape[1], self.h, self.d_k).transpose(1, 2)\n",
    "        key = key.view(key.shape[0], key.shape[1], self.h, self.d_k).transpose(1, 2)\n",
    "        value = value.view(value.shape[0], value.shape[1], self.h, self.d_k).transpose(1, 2)\n",
    "\n",
    "        x, self.attention_scores = MultiHeadAttentionBlock.attention(query, key, value, mask, self.dropout)\n",
    "        \n",
    "        x = x.transpose(1, 2).contiguous().view(x.shape[0], -1, self.h * self.d_k)\n",
    "\n",
    "        return self.w_o(x)"
   ]
  },
  {
   "cell_type": "code",
   "execution_count": null,
   "id": "92cdb1da2c2c2920",
   "metadata": {
    "ExecuteTime": {
     "end_time": "2024-10-04T06:17:04.850156Z",
     "start_time": "2024-10-04T06:17:04.844375Z"
    },
    "jupyter": {
     "outputs_hidden": false
    }
   },
   "outputs": [],
   "source": [
    "class EncoderBlock(nn.Module):\n",
    "    \"\"\" \n",
    "         Analiza la relevansia de una palabra en base al contexto de la misma.\n",
    "         Es decir, mediante el Encoder, recibe la secuencia y analiza cada una\n",
    "         de las palabras (tokens) obteniendo el valor de cada palabra en el texto.\n",
    "         Si es mas importante por no estar tantas veces, si aparece muchas veces y asi.\n",
    "    \"\"\"\n",
    "\n",
    "    def __init__(self, features: int, self_attention_block: MultiHeadAttentionBlock, feed_forward_block: FeedForwardBlock, dropout: float) -> None:\n",
    "        super().__init__()\n",
    "        self.self_attention_block = self_attention_block\n",
    "        self.feed_forward_block = feed_forward_block\n",
    "        self.residual_connections = nn.ModuleList([ResidualConnection(features, dropout) for _ in range(2)])\n",
    "\n",
    "    def forward(self, x, src_mask):\n",
    "        '''\n",
    "            Aplicar conexiones residuales para permitir que la red aprenda \n",
    "            identidades sin perder la capacidad de transformar las entradas.\n",
    "        '''\n",
    "        # Aplicar al attention_block la primera conexión residual \n",
    "        x = self.residual_connections[0](x, lambda x: self.self_attention_block(x, x, x, src_mask))\n",
    "        # Aplicar al feed-forward la 2da conexion residual\n",
    "        x = self.residual_connections[1](x, self.feed_forward_block)\n",
    "        return x\n",
    "    "
   ]
  },
  {
   "cell_type": "code",
   "execution_count": null,
   "id": "d52695c77abc1cbe",
   "metadata": {
    "ExecuteTime": {
     "end_time": "2024-10-04T06:17:06.721751Z",
     "start_time": "2024-10-04T06:17:06.715885Z"
    },
    "jupyter": {
     "outputs_hidden": false
    }
   },
   "outputs": [],
   "source": [
    "class Encoder(nn.Module):\n",
    "    \"\"\"\n",
    "     Procesa las entradas través de varias capas de atención y transformación,\n",
    "     obteniendo el contexto de los demas tokens para 1 solo. Es decir, obtener\n",
    "     un panorama general. Este se conforma de varios EncoderBlock para realizar\n",
    "     la tarea. Es decir, obtiene el texto completo y con el encoderBlock analiza\n",
    "     su relevancia\n",
    "    \"\"\"\n",
    "\n",
    "    def __init__(self, features: int, layers: nn.ModuleList) -> None:\n",
    "        super().__init__()\n",
    "        self.layers = layers\n",
    "        self.norm = LayerNormalization(features)\n",
    "\n",
    "    def forward(self, x, mask):\n",
    "        '''\n",
    "            Aplicar la transformación y la máscara para cada codificador.\n",
    "        '''\n",
    "        for layer in self.layers:\n",
    "            x = layer(x, mask)\n",
    "        # Normalizar\n",
    "        return self.norm(x)\n"
   ]
  },
  {
   "cell_type": "code",
   "execution_count": null,
   "id": "3c7ea861080729ea",
   "metadata": {
    "ExecuteTime": {
     "end_time": "2024-10-04T06:17:16.343228Z",
     "start_time": "2024-10-04T06:17:16.337035Z"
    },
    "jupyter": {
     "outputs_hidden": false
    }
   },
   "outputs": [],
   "source": [
    "class DecoderBlock(nn.Module):\n",
    "    \"\"\"\n",
    "        Obtiene la secuencia de valores, para poder transcribirlos uno a uno\n",
    "        y o\n",
    "    \"\"\"\n",
    "\n",
    "    def __init__(self, features: int, self_attention_block: MultiHeadAttentionBlock, cross_attention_block: MultiHeadAttentionBlock, feed_forward_block: FeedForwardBlock, dropout: float) -> None:\n",
    "        super().__init__()\n",
    "        # Conexiones residuales\n",
    "        self.self_attention_block = self_attention_block\n",
    "        self.cross_attention_block = cross_attention_block\n",
    "        self.feed_forward_block = feed_forward_block\n",
    "        self.residual_connections = nn.ModuleList([ResidualConnection(features, dropout) for _ in range(3)])\n",
    "\n",
    "    def forward(self, x, encoder_output, src_mask, tgt_mask):\n",
    "        \n",
    "        x = self.residual_connections[0](x, lambda x: self.self_attention_block(x, x, x, tgt_mask))\n",
    "        x = self.residual_connections[1](x, lambda x: self.cross_attention_block(x, encoder_output, encoder_output, src_mask))\n",
    "        x = self.residual_connections[2](x, self.feed_forward_block)\n",
    "        return x\n",
    "    "
   ]
  },
  {
   "cell_type": "code",
   "execution_count": null,
   "id": "1f02f0c0fc48cf9d",
   "metadata": {
    "ExecuteTime": {
     "end_time": "2024-10-04T06:17:18.977768Z",
     "start_time": "2024-10-04T06:17:18.971636Z"
    },
    "jupyter": {
     "outputs_hidden": false
    }
   },
   "outputs": [],
   "source": [
    "class Decoder(nn.Module):\n",
    "    \"\"\"\n",
    "        Posee capas de DecoderBlock, para poder transformar las secuencias\n",
    "        objetivo a partir de la inforamcion del codificador.\n",
    "        Esto con el fin de poder obtener la data y normalizarla luego de\n",
    "        para que sea exacta y no tenga ruido. En este caso, obtiene el valor\n",
    "        que se le da al texto, para poder traducirlo.\n",
    "    \"\"\"\n",
    "\n",
    "    def __init__(self, features: int, layers: nn.ModuleList) -> None:\n",
    "        super().__init__()\n",
    "        self.layers = layers\n",
    "        self.norm = LayerNormalization(features)\n",
    "\n",
    "    def forward(self, x, encoder_output, src_mask, tgt_mask):\n",
    "        for layer in self.layers:\n",
    "            x = layer(x, encoder_output, src_mask, tgt_mask)\n",
    "        # Normalizar\n",
    "        return self.norm(x)\n"
   ]
  },
  {
   "cell_type": "code",
   "execution_count": null,
   "id": "455c85041a44b369",
   "metadata": {
    "ExecuteTime": {
     "end_time": "2024-10-04T06:17:21.764822Z",
     "start_time": "2024-10-04T06:17:21.757239Z"
    },
    "jupyter": {
     "outputs_hidden": false
    }
   },
   "outputs": [],
   "source": [
    "class ProjectionLayer(nn.Module):\n",
    "    \"\"\"\n",
    "        Convierte las salidas de dimensión d_model a una distribución de \n",
    "        probabilidad sobre el vocabulario de salida, que es lo que \n",
    "        finalmente predice el modelo.\n",
    "    \"\"\"\n",
    "    def __init__(self, d_model, vocab_size) -> None:\n",
    "        super().__init__()\n",
    "        self.proj = nn.Linear(d_model, vocab_size)\n",
    "\n",
    "    def forward(self, x) -> None:\n",
    "        # (batch, seq_len, d_model) --> (batch, seq_len, vocab_size)\n",
    "        return self.proj(x)\n",
    "    "
   ]
  },
  {
   "cell_type": "code",
   "execution_count": null,
   "id": "16bc6f102d1184f2",
   "metadata": {
    "ExecuteTime": {
     "end_time": "2024-10-04T06:17:24.503055Z",
     "start_time": "2024-10-04T06:17:24.497246Z"
    },
    "jupyter": {
     "outputs_hidden": false
    }
   },
   "outputs": [],
   "source": [
    "class Transformer(nn.Module):\n",
    "    \"\"\"\n",
    "        Conector de las capras codificador, decodificador y proyección. \n",
    "        Este ayuda a que funcione el proceso en si de todos las clases previas\n",
    "        para que se haga el proceso de codificacion, embedding, decodicacion y proyeccion\n",
    "        con el fin de hallar similitudes en palabras, o poder categorizarlas.\n",
    "    \"\"\"\n",
    "\n",
    "    def __init__(self, encoder: Encoder, decoder: Decoder, src_embed: InputEmbeddings, tgt_embed: InputEmbeddings, src_pos: PositionalEncoding, tgt_pos: PositionalEncoding, projection_layer: ProjectionLayer) -> None:\n",
    "        super().__init__()\n",
    "        self.encoder = encoder\n",
    "        self.decoder = decoder\n",
    "        self.src_embed = src_embed\n",
    "        self.tgt_embed = tgt_embed\n",
    "        self.src_pos = src_pos\n",
    "        self.tgt_pos = tgt_pos\n",
    "        self.projection_layer = projection_layer\n",
    "\n",
    "    def encode(self, src, src_mask):\n",
    "        # Embebemr la secuencia de entrada y codificación posicional.\n",
    "        src = self.src_embed(src)\n",
    "        src = self.src_pos(src)\n",
    "        return self.encoder(src, src_mask)\n",
    "    \n",
    "    def decode(self, encoder_output: torch.Tensor, src_mask: torch.Tensor, tgt: torch.Tensor, tgt_mask: torch.Tensor):\n",
    "        # Embeber la secuencia objetivo y  codificación posicional.\n",
    "        tgt = self.tgt_embed(tgt)\n",
    "        tgt = self.tgt_pos(tgt)\n",
    "        return self.decoder(tgt, encoder_output, src_mask, tgt_mask)\n",
    "    \n",
    "    def project(self, x):\n",
    "        # (batch, seq_len, vocab_size). Probabiliades sobre vocabulario.\n",
    "        return self.projection_layer(x)\n",
    "    "
   ]
  },
  {
   "cell_type": "code",
   "execution_count": null,
   "id": "initial_id",
   "metadata": {
    "ExecuteTime": {
     "end_time": "2024-10-04T06:17:26.589430Z",
     "start_time": "2024-10-04T06:17:26.579319Z"
    }
   },
   "outputs": [],
   "source": [
    "def build_transformer(src_vocab_size: int, tgt_vocab_size: int, src_seq_len: int, tgt_seq_len: int, d_model: int=512, N: int=6, h: int=8, dropout: float=0.1, d_ff: int=2048) -> Transformer:\n",
    "    '''\n",
    "        Metodo de inicializacion para la construccion del transformador. En este caso es para inicializar el proceso de la\n",
    "        red y contruirla en base a las entradas de texto que se vayan pasando. Esto con el fin de hallar traducciones, relaciones entre\n",
    "        palabras o lo que se desee realizar con la red.\n",
    "    '''\n",
    "    src_embed = InputEmbeddings(d_model, src_vocab_size)\n",
    "    tgt_embed = InputEmbeddings(d_model, tgt_vocab_size)\n",
    "\n",
    "    src_pos = PositionalEncoding(d_model, src_seq_len, dropout)\n",
    "    tgt_pos = PositionalEncoding(d_model, tgt_seq_len, dropout)\n",
    "    \n",
    "    encoder_blocks = []\n",
    "    for _ in range(N):\n",
    "        encoder_self_attention_block = MultiHeadAttentionBlock(d_model, h, dropout)\n",
    "        feed_forward_block = FeedForwardBlock(d_model, d_ff, dropout)\n",
    "        encoder_block = EncoderBlock(d_model, encoder_self_attention_block, feed_forward_block, dropout)\n",
    "        encoder_blocks.append(encoder_block)\n",
    "\n",
    "    decoder_blocks = []\n",
    "    for _ in range(N):\n",
    "        decoder_self_attention_block = MultiHeadAttentionBlock(d_model, h, dropout)\n",
    "        decoder_cross_attention_block = MultiHeadAttentionBlock(d_model, h, dropout)\n",
    "        feed_forward_block = FeedForwardBlock(d_model, d_ff, dropout)\n",
    "        decoder_block = DecoderBlock(d_model, decoder_self_attention_block, decoder_cross_attention_block, feed_forward_block, dropout)\n",
    "        decoder_blocks.append(decoder_block)\n",
    "    \n",
    "    encoder = Encoder(d_model, nn.ModuleList(encoder_blocks))\n",
    "    decoder = Decoder(d_model, nn.ModuleList(decoder_blocks))\n",
    "    \n",
    "    projection_layer = ProjectionLayer(d_model, tgt_vocab_size)\n",
    "    \n",
    "    transformer = Transformer(encoder, decoder, src_embed, tgt_embed, src_pos, tgt_pos, projection_layer)\n",
    "\n",
    "    for p in transformer.parameters():\n",
    "        if p.dim() > 1:\n",
    "            nn.init.xavier_uniform_(p)\n",
    "    \n",
    "    return transformer"
   ]
  }
 ],
 "metadata": {
  "kernelspec": {
   "display_name": "Python 3 (ipykernel)",
   "language": "python",
   "name": "python3"
  },
  "language_info": {
   "codemirror_mode": {
    "name": "ipython",
    "version": 3
   },
   "file_extension": ".py",
   "mimetype": "text/x-python",
   "name": "python",
   "nbconvert_exporter": "python",
   "pygments_lexer": "ipython3",
   "version": "3.12.6"
  }
 },
 "nbformat": 4,
 "nbformat_minor": 5
}
