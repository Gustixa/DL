{
 "cells": [
  {
   "cell_type": "code",
   "execution_count": null,
   "id": "23556a2b0d70ade4",
   "metadata": {
    "ExecuteTime": {
     "end_time": "2024-10-11T21:49:18.787896Z",
     "start_time": "2024-10-11T21:49:18.672526Z"
    },
    "jupyter": {
     "outputs_hidden": false
    }
   },
   "outputs": [],
   "source": [
    "import gensim\n",
    "import chardet\n",
    "from gensim.models import Word2Vec"
   ]
  },
  {
   "cell_type": "code",
   "execution_count": null,
   "id": "200d64a74abbd226",
   "metadata": {
    "jupyter": {
     "outputs_hidden": false
    }
   },
   "outputs": [],
   "source": [
    "try:\n",
    "    with open('reviews_data.txt', 'r', encoding='utf-8', errors='replace') as file:\n",
    "        documents = file.readlines()\n",
    "except FileNotFoundError:\n",
    "    print(\"Error\")\n",
    "    raise\n",
    "\n",
    "doc_tok = [doc.lower().split() for doc in documents]\n",
    "\n",
    "model = Word2Vec(\n",
    "    sentences=doc_tok,   # Frases tokenizadas\n",
    "    vector_size=150,                 # Dimensión de los vectores generados\n",
    "    window=10,                       # Tamaño de la ventana de contexto\n",
    "    min_count=2,                     # Frecuencia mínima de las palabras para ser incluidas\n",
    "    workers=4                        # Número de threads a utilizar\n",
    ")\n"
   ]
  },
  {
   "cell_type": "code",
   "execution_count": null,
   "id": "e28358a5-8284-49f6-bb47-7b96b4c48982",
   "metadata": {},
   "outputs": [],
   "source": [
    "# Visualizar las palabras en el vocabulario\n",
    "vocabulary = list(model.wv.index_to_key)\n",
    "print(\"Primeras palabras en el vocabulario:\", vocabulary[:10])\n",
    "\n",
    "# Obtener el vector de una palabra específica \n",
    "word = 'hotel'\n",
    "if word in vocabulary:\n",
    "    example_word_vector = model.wv[word]\n",
    "    print(f\"Vector para la palabra '{word}':\", example_word_vector)\n",
    "else:\n",
    "    print(f\"Palabra '{word}' no encontrada en el vocabulario\")"
   ]
  },
  {
   "cell_type": "markdown",
   "id": "577c24fd-1add-4673-a152-72e5db9553f2",
   "metadata": {},
   "source": [
    "# Encontrar las 10 palabras más similares"
   ]
  },
  {
   "cell_type": "code",
   "execution_count": null,
   "id": "85808ee0-c2bc-48e2-9516-fdd7b4ae4fa9",
   "metadata": {},
   "outputs": [],
   "source": [
    "palabras_iniciales = [\"street\", \"good\", \"dog\", \"mother\", \"bed\"]\n",
    "palabras_similares = {}\n",
    "\n",
    "for palabra in palabras_iniciales:\n",
    "    try:\n",
    "        similares = model.wv.most_similar(palabra, topn=10)\n",
    "        palabras_similares[palabra] = [p[0] for p in similares]\n",
    "        print(f\"Palabras similares a '{palabra}': {palabras_similares[palabra], similares}\")\n",
    "    except KeyError:\n",
    "        print(f\"La palabra '{palabra}' no está en el vocabulario del modelo.\")\n",
    "\n"
   ]
  },
  {
   "cell_type": "code",
   "execution_count": null,
   "id": "9f8bd1c3-1a00-438f-b547-093c07d21672",
   "metadata": {},
   "outputs": [],
   "source": [
    "palabras_iniciales = [\"street\", \"good\", \"dog\", \"mother\", \"bed\"]\n",
    "similar_words_dict = {}\n",
    "palabras = set(palabras_iniciales)\n",
    "\n",
    "for palabra in palabras_iniciales:\n",
    "    if palabra in vocabulary:\n",
    "        similar_words = model.wv.most_similar(palabra, topn=10)\n",
    "        similar_words_dict[palabra] = similar_words\n",
    "        palabras.update([w for w, _ in similar_words])\n",
    "        \n",
    "embeddings = {}\n",
    "for palabra in palabras:\n",
    "    if palabra in vocabulary:\n",
    "        embeddings[palabra] = model.wv[palabra]\n",
    "\n",
    "for palabra, vector in embeddings.items():\n",
    "    print(f\"Embedding para la palabra '{palabra}':\", vector)"
   ]
  },
  {
   "cell_type": "code",
   "execution_count": null,
   "id": "bd287e75-8b89-42d1-88c3-48184b8f7f11",
   "metadata": {},
   "outputs": [],
   "source": [
    "# Aplicar PCA para reducir la dimensionalidad de los embeddings a 2 componentes principales\n",
    "from sklearn.decomposition import PCA\n",
    "import matplotlib.pyplot as plt\n",
    "\n",
    "embedding_vectors = list(embeddings.values())\n",
    "pca = PCA(n_components=2)\n",
    "reduced_embeddings = pca.fit_transform(embedding_vectors)\n",
    "\n",
    "plt.figure(figsize=(12, 8))\n",
    "for i, word in enumerate(embeddings.keys()):\n",
    "    plt.scatter(reduced_embeddings[i, 0], reduced_embeddings[i, 1])\n",
    "    plt.text(reduced_embeddings[i, 0] + 0.01, reduced_embeddings[i, 1] + 0.01, word, fontsize=9)\n",
    "\n",
    "plt.title(\"Representación PCA de los Embeddings de Palabras\")\n",
    "plt.xlabel(\"Componente Principal 1\")\n",
    "plt.ylabel(\"Componente Principal 2\")\n",
    "plt.grid()\n",
    "plt.show()"
   ]
  },
  {
   "cell_type": "code",
   "execution_count": null,
   "id": "9eba1ae7-d213-4720-88f6-827ecb8281f0",
   "metadata": {},
   "outputs": [],
   "source": []
  },
  {
   "cell_type": "code",
   "execution_count": null,
   "id": "fab427af-f02b-4ce2-a5f7-ccdf652bf07f",
   "metadata": {},
   "outputs": [],
   "source": []
  },
  {
   "cell_type": "code",
   "execution_count": null,
   "id": "658ab887-74dd-4287-b317-4313c616885a",
   "metadata": {},
   "outputs": [],
   "source": []
  },
  {
   "cell_type": "code",
   "execution_count": null,
   "id": "c52010e2-6e96-4a9a-ab5a-5dfcc8e438c6",
   "metadata": {},
   "outputs": [],
   "source": []
  },
  {
   "cell_type": "code",
   "execution_count": null,
   "id": "b735d486-1ae3-4342-a552-93f1c6262f5f",
   "metadata": {},
   "outputs": [],
   "source": []
  },
  {
   "cell_type": "code",
   "execution_count": null,
   "id": "9d04f697-152a-475c-9dca-278e7ec2419f",
   "metadata": {},
   "outputs": [],
   "source": []
  }
 ],
 "metadata": {
  "kernelspec": {
   "display_name": "Python 3 (ipykernel)",
   "language": "python",
   "name": "python3"
  },
  "language_info": {
   "codemirror_mode": {
    "name": "ipython",
    "version": 3
   },
   "file_extension": ".py",
   "mimetype": "text/x-python",
   "name": "python",
   "nbconvert_exporter": "python",
   "pygments_lexer": "ipython3",
   "version": "3.12.6"
  }
 },
 "nbformat": 4,
 "nbformat_minor": 5
}
